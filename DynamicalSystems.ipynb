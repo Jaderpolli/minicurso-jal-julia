{
 "cells": [
  {
   "cell_type": "markdown",
   "id": "7ac7249d",
   "metadata": {},
   "source": [
    "### O pacote DynamicalSystems.jl\n",
    "\n",
    "[DynamicalSystems.jl](https://juliadynamics.github.io/DynamicalSystems.jl/dev/) é uma biblioteca de softwares para sistemas dinâmicos, não-lineares, caos e análise de séries temporais. Ele faz parte do [JuliaDynamics](https://juliadynamics.github.io/JuliaDynamics/).\n",
    "\n",
    "Vamos começar a trabalhar com este pacote, enquanto nos familiarizamos com a linguagem Julia"
   ]
  },
  {
   "cell_type": "markdown",
   "id": "85de0286",
   "metadata": {},
   "source": [
    "Primeiro, para instalar o pacote, usamos o gerenciador de pacotes `Pkg` "
   ]
  },
  {
   "cell_type": "code",
   "execution_count": null,
   "id": "458e689a",
   "metadata": {},
   "outputs": [],
   "source": [
    "using Pkg; Pkg.add(\"DynamicalSystems\")"
   ]
  },
  {
   "cell_type": "markdown",
   "id": "197e3953",
   "metadata": {},
   "source": [
    "Um sistema dinâmico deterministico é representado por um conjunto de variáveis $\\vec{u}$, a informação sobre o tempo $t$ em que medimos ou calculamos as variáveis, uma regra $\\vec{f}$ para a dinâmica da variável, e seu conjunto de parâmetros $\\{p_i\\}$.\n",
    "\n",
    "A regra de evolução do sistema pode ser de tempo discreto, dada por uma equação de diferença, ou **mapa**:\n",
    "\n",
    "$$\\vec{u}_{t+1} = \\vec{f}(\\vec{u_t}, \\{p_i\\}, t)$$\n",
    "\n",
    "ou de tempo contínuo, dada por uma Equação Diferencial (ordinária ou parcial), ou **fluxo**:\n",
    "\n",
    "$$\\frac{d\\vec{u}}{dt} = \\vec{f}(\\vec{u}, \\{p\\}, t)$$"
   ]
  },
  {
   "cell_type": "markdown",
   "id": "c00f2462",
   "metadata": {},
   "source": [
    "O estudo de sistemas dinâmicos consiste em técnicas para analisar como as variáveis evoluem mediante as regras determinísticas que as são dadas."
   ]
  },
  {
   "cell_type": "markdown",
   "id": "c4cc4216",
   "metadata": {},
   "source": [
    "COLOCAR VÁRIAS FIGURAS E TALVEZ GIFS COM SEUS CÓDIGOS AQUI EMBAIXO PARA CHAMAR ATENÇÃO E FALAR DE APLICAÇÕES"
   ]
  },
  {
   "cell_type": "markdown",
   "id": "bcbbe445",
   "metadata": {},
   "source": [
    "BACIAS VAN DER POOL\n",
    "\n",
    "DIAG BIF LOGISITCO\n",
    "\n",
    "GIF LORENZ\n",
    "\n",
    "DUFFING BACIAS \n",
    "\n",
    "VAN DER POL TORUS GIF\n",
    "\n",
    "MAPA PADRÃO"
   ]
  },
  {
   "cell_type": "code",
   "execution_count": null,
   "id": "1256b152",
   "metadata": {},
   "outputs": [],
   "source": []
  }
 ],
 "metadata": {
  "kernelspec": {
   "display_name": "Julia 1.7.2",
   "language": "julia",
   "name": "julia-1.7"
  },
  "language_info": {
   "file_extension": ".jl",
   "mimetype": "application/julia",
   "name": "julia",
   "version": "1.7.2"
  }
 },
 "nbformat": 4,
 "nbformat_minor": 5
}
