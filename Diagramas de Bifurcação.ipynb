{
 "cells": [
  {
   "cell_type": "markdown",
   "id": "fa40f015",
   "metadata": {},
   "source": [
    "### Observando comportamentos gerais de sistemas\n",
    "\n",
    "Até agora, pudemos observar como um sistema se comporta quando um conjunto determinado de parâmetros é utilizado. \n",
    "\n",
    "Agora veremos como podemos observar comportamentos gerais, para vários parâmetros.\n",
    "\n",
    "Isso é feito através da criação de Diagramas de Bifurcação!"
   ]
  },
  {
   "cell_type": "code",
   "execution_count": null,
   "id": "1857b41a",
   "metadata": {},
   "outputs": [],
   "source": []
  }
 ],
 "metadata": {
  "kernelspec": {
   "display_name": "Julia 1.7.2",
   "language": "julia",
   "name": "julia-1.7"
  },
  "language_info": {
   "file_extension": ".jl",
   "mimetype": "application/julia",
   "name": "julia",
   "version": "1.7.2"
  }
 },
 "nbformat": 4,
 "nbformat_minor": 5
}
