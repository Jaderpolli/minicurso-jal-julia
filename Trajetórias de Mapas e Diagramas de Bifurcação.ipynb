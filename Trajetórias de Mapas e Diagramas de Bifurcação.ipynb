{
 "cells": [
  {
   "cell_type": "markdown",
   "id": "ad772bdc",
   "metadata": {},
   "source": [
    "LOGÍSTICO TRAJETÓRIAS\n",
    "\n",
    "HENON ÓRBITAS\n",
    "\n",
    "LOGÍSTICO DIAG BIF\n",
    "\n",
    "HENÓN DIAG BIF"
   ]
  },
  {
   "cell_type": "code",
   "execution_count": null,
   "id": "170453bf",
   "metadata": {},
   "outputs": [],
   "source": []
  }
 ],
 "metadata": {
  "kernelspec": {
   "display_name": "Julia 1.7.2",
   "language": "julia",
   "name": "julia-1.7"
  },
  "language_info": {
   "file_extension": ".jl",
   "mimetype": "application/julia",
   "name": "julia",
   "version": "1.7.2"
  }
 },
 "nbformat": 4,
 "nbformat_minor": 5
}
