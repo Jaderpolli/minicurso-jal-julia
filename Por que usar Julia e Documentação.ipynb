{
 "cells": [
  {
   "cell_type": "markdown",
   "id": "4c0e5438",
   "metadata": {},
   "source": [
    "### Por que usar Julia?\n",
    "\n",
    "....[usar isso como base](https://juliadatascience.io/why_julia)"
   ]
  },
  {
   "cell_type": "markdown",
   "id": "eab0829e",
   "metadata": {},
   "source": [
    "### Documentação do Julia\n",
    "\n",
    "[documentação](https://docs.julialang.org/en/v1/)"
   ]
  },
  {
   "cell_type": "code",
   "execution_count": null,
   "id": "0b86907f",
   "metadata": {},
   "outputs": [],
   "source": []
  }
 ],
 "metadata": {
  "kernelspec": {
   "display_name": "Julia 1.7.2",
   "language": "julia",
   "name": "julia-1.7"
  },
  "language_info": {
   "file_extension": ".jl",
   "mimetype": "application/julia",
   "name": "julia",
   "version": "1.7.2"
  }
 },
 "nbformat": 4,
 "nbformat_minor": 5
}
