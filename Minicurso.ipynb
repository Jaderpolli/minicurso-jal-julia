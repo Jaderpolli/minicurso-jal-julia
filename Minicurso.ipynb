{
 "cells": [
  {
   "cell_type": "markdown",
   "id": "852f9075",
   "metadata": {},
   "source": [
    "# Título provisório: Física e Caos em Julia Language: uma linguagem rápida e moderna para a ciência\n",
    "\n",
    "# Physics and Chaos in Julia Language: a fast and modern language for science\n",
    "\n",
    "## Minicurso JAL 2022\n",
    "### Jaderson Guilherme Polli - Mestrando em Física - UFPR"
   ]
  },
  {
   "cell_type": "markdown",
   "id": "c35c8a57",
   "metadata": {},
   "source": [
    "#### Cronograma\n",
    "    Segunda e terça das 14h00 às 17h00, com intervalo das 15h30 às 15h45: \n",
    "        *Segunda:*\n",
    "        |- 14h00 - 14h30 | Pré-Minicurso: Instalando e configurando o Julia 1.7 e o Jupyter Notebook |\n",
    "        |----------------|---------------------------------------------------------------------------|\n",
    "        |- 14h30 - 14h45 | Introdução: Vantagens, desvantagens e Documentação                        |\n",
    "        |----------------|---------------------------------------------------------------------------|\n",
    "        |- 14h45 - 15h30 | Pacote Dynamical Systems: exploração                                      |\n",
    "        |----------------|---------------------------------------------------------------------------|\n",
    "        |- 15h45 - 17h00 | Gerando Diagramas de Bifurcação: mapas 1-D e 2-D                          |\n",
    "        \n",
    "       \n",
    "\n",
    "#### Estrutura do curso\n",
    "    * Instalando e configurando o Julia e Jupyter Notebook;\n",
    "    * Introdução: Vantagens e desvantagens de usar Julia;\n",
    "    * "
   ]
  },
  {
   "cell_type": "code",
   "execution_count": null,
   "id": "cf660df0",
   "metadata": {},
   "outputs": [],
   "source": []
  }
 ],
 "metadata": {
  "kernelspec": {
   "display_name": "Julia 1.7.2",
   "language": "julia",
   "name": "julia-1.7"
  },
  "language_info": {
   "file_extension": ".jl",
   "mimetype": "application/julia",
   "name": "julia",
   "version": "1.7.2"
  }
 },
 "nbformat": 4,
 "nbformat_minor": 5
}
