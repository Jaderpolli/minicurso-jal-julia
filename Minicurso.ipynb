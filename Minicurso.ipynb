{
 "cells": [
  {
   "cell_type": "markdown",
   "id": "62a899b0",
   "metadata": {},
   "source": [
    "# *Título provisório*: Física e Caos em Julia, uma linguagem rápida e moderna para a ciência\n",
    "\n",
    "### Jornada Acadêmica das Licenciaturas 2022 - Instituto Federal Catarinense - *Campus* Rio do Sul\n",
    "\n",
    "#### Jaderson G. Polli - Mestrando em Física - UFPR"
   ]
  },
  {
   "cell_type": "markdown",
   "id": "5f33bee8",
   "metadata": {},
   "source": [
    "### Objetivo\n",
    "\n",
    "Introduzir a linguagem de programação Julia orientada à Física e Sistemas Dinâmicos, por meio de programação conjunta utilizando ferramentas e pacotes pré-implementados, com intuito de fornecer bases para utilização da linguagem como ferramenta de desenvolvimento científico.\n",
    "\n",
    "### Data:\n",
    "\n",
    " **16 e 17 de maio de 2022, das 14h00 às 17h00.**\n",
    " \n",
    "### Cronograma \n",
    "\n",
    " **Segunda-Feira (16/05)**\n",
    " \n",
    " | Horário | Atividade |\n",
    " |---|---|\n",
    " | 14h00 - 14h15 | *Introdução*: [por que usar Julia](https://juliadatascience.io/why_julia) e [Documentação](https://docs.julialang.org/en/v1/) |\n",
    " |14h15 - 14h45  | *Pré-Minicurso*: [Instalando e configurando o Julia 1.7.2](https://julialang.org/downloads/) e o [Jupyter Notebook](https://jupyter.org/)  |\n",
    " |14h45 - 15h30 | Pacote *[Dynamical Systems](https://juliadynamics.github.io/DynamicalSystems.jl/dev/)*|\n",
    " |15h30 - 15h45 | **Intervalo** |\n",
    " |15h45 - 17h00| [Diagramas de Bifurcação](https://juliadynamics.github.io/DynamicalSystems.jl/dev/chaos/orbitdiagram/) de Mapas 1-D e 2-D|\n",
    " \n",
    " **Terça-Feira (17/05)**\n",
    " \n",
    "  | Horário | Atividade |\n",
    " |---|---|\n",
    " | 14h00 - 14h40 | Continuação e finalização de Diagramas de Bifurcação |\n",
    " |14h40- 15h30  | [Integração de Sistemas Contínuos](https://juliadynamics.github.io/DynamicalSystems.jl/dev/ds/general/#Time-Evolution-of-Systems) e Plot de Trajetórias |\n",
    " |15h30 - 15h45 | **Intervalo** |\n",
    " |15h45- 17h00| Finalização de Integração de Sistemas Contínuos e [Expoentes de Lyapunov](https://juliadynamics.github.io/DynamicalSystems.jl/dev/chaos/lyapunovs/)|"
   ]
  },
  {
   "cell_type": "code",
   "execution_count": null,
   "id": "0a1ff0f2",
   "metadata": {},
   "outputs": [],
   "source": []
  }
 ],
 "metadata": {
  "kernelspec": {
   "display_name": "Julia 1.7.2",
   "language": "julia",
   "name": "julia-1.7"
  },
  "language_info": {
   "file_extension": ".jl",
   "mimetype": "application/julia",
   "name": "julia",
   "version": "1.7.2"
  }
 },
 "nbformat": 4,
 "nbformat_minor": 5
}
