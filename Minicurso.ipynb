{
 "cells": [
  {
   "cell_type": "markdown",
   "id": "852f9075",
   "metadata": {},
   "source": [
    "# Título provisório: Física, Caos e Computação: uma abordagem em Julia, uma linguagem rápida e moderna\n",
    "\n",
    "## Minicurso JAL 2022\n",
    "### Jaderson Guilherme Polli - Mestrando em Física - UFPR"
   ]
  },
  {
   "cell_type": "markdown",
   "id": "e226f8e7",
   "metadata": {},
   "source": [
    "#### Estrutura do curso\n",
    "    * Primeira parte;\n",
    "    * Segunda\n",
    "    * Terceira"
   ]
  },
  {
   "cell_type": "code",
   "execution_count": null,
   "id": "ed67740f",
   "metadata": {},
   "outputs": [],
   "source": []
  }
 ],
 "metadata": {
  "kernelspec": {
   "display_name": "Julia 1.7.2",
   "language": "julia",
   "name": "julia-1.7"
  },
  "language_info": {
   "file_extension": ".jl",
   "mimetype": "application/julia",
   "name": "julia",
   "version": "1.7.2"
  }
 },
 "nbformat": 4,
 "nbformat_minor": 5
}
