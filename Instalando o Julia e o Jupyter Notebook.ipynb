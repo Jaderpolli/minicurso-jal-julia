{
 "cells": [
  {
   "cell_type": "markdown",
   "id": "09fcb24a",
   "metadata": {},
   "source": [
    "### Instalação do Julia\n",
    "\n",
    "Tudo que você precisa para instalar a Linguagem Julia em seu sistema operacional, seja ele Windows, Mac ou Linux, você encontra em:\n",
    "\n",
    "[Download Julia](https://julialang.org/downloads/)\n",
    "\n",
    "Não se esqueça de [adicionar o Julia ao PATH](https://julialang.org/downloads/platform/#adding_julia_to_path_on_windows_10), caso esteja instalando no Windows. Com isso, um simples comando no Prompt de Comando `Julia`"
   ]
  },
  {
   "cell_type": "markdown",
   "id": "b2e8ec28",
   "metadata": {},
   "source": [
    "### Interface de edição e criação de códigos\n",
    "\n",
    "Escolher onde seus códigos serão criados é um ponto muito importante. Pensar em como utilizar seus códigos para gerar e analisar dados e produzir ciência de maneira **reprodutível** é o primeiro passo nesse sentido, independente da linguagem utilizada.\n",
    "\n",
    "Para trabalhar de maneira organizada e integrada, editores de código modernos como o [VS Code](https://code.visualstudio.com/) ou o [Atom](https://atom.io/) são ideais, principalmente por conta da fácil integração com o [GitHub](https://github.com/), o que facilita a reproducibilidade dos seus resultados.\n",
    "\n",
    "Para trabalhar de maneira mais livre e criativa, ideal para iniciantes, mas também um local para ideias novas e testes rápidos, o uso de *notebooks* como o [Jupyter Notebook](https://jupyter.org/) é o mais recomendado. O Jupyter é a plataforma que usaremos neste minicurso, pois nos dará a liberdade de testar e receber respostas rápidas sobre o que estamos fazendo!"
   ]
  },
  {
   "cell_type": "markdown",
   "id": "f4c93c1d",
   "metadata": {},
   "source": [
    "### Instalando o Jupyter Notebook\n",
    "\n",
    "A instalação do Jupyter Notebook pode ser feita usando o [Anaconda Distribution](https://www.anaconda.com/) ou o gerenciador de pacotes do Python PIP, através do comando `pip install jupyter notebook`. "
   ]
  },
  {
   "cell_type": "markdown",
   "id": "0e668a24",
   "metadata": {},
   "source": [
    "### Um apelo à reproducibilidade científica\n",
    "\n",
    "Quando falamos em ciência, quem conhece um pouco do seu método e entende seu funcionamento, de prontidão pensa em um dos seus grandes poderes: a reproducibilidade.\n",
    "\n",
    "Sendo assim, para fazer ciência usando computação e simulações, você deve pensar em seus códigos como os aparatos experimentais de um laboratório, que devem poder ser reproduzidos em qualquer outro laboratório, por qualquer cientista da sua área.\n",
    "\n",
    "Uma das melhores ferramentas para permitir a reproducibilidade dos seus códigos é o `git`, um controlador de versões que permite não só o compartilhamento dos seus códigos, como o armazenamento e acompanhamento da evolução dos seus códigos e pesquisas.\n",
    "\n",
    "Este curso está todo disponível no [GitHub](https://github.com/) em [https://github.com/Jaderpolli/minicurso-jal-julia](https://github.com/Jaderpolli/minicurso-jal-julia). O GitHub é uma plataforma que armazena os projetos e permite a colaboração e discussão entre membros de um projeto."
   ]
  },
  {
   "cell_type": "code",
   "execution_count": null,
   "id": "b2ed2832",
   "metadata": {},
   "outputs": [],
   "source": []
  }
 ],
 "metadata": {
  "kernelspec": {
   "display_name": "Julia 1.7.2",
   "language": "julia",
   "name": "julia-1.7"
  },
  "language_info": {
   "file_extension": ".jl",
   "mimetype": "application/julia",
   "name": "julia",
   "version": "1.7.2"
  }
 },
 "nbformat": 4,
 "nbformat_minor": 5
}
